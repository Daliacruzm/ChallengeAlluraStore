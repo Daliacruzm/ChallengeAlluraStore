{
  "nbformat": 4,
  "nbformat_minor": 0,
  "metadata": {
    "colab": {
      "provenance": [],
      "collapsed_sections": [
        "rCDQJlFAhy0M",
        "tUZLEjrCsPkR",
        "zZWy5bCTssG5",
        "xGuIY2lU1gMa",
        "s9V5Xy_8mOXx",
        "gE6l-0u4rksT",
        "h1zu7-lyx8Xh",
        "QT1o9Vs_4c8e",
        "uKbuJHe84ilJ"
      ]
    },
    "kernelspec": {
      "name": "python3",
      "display_name": "Python 3"
    },
    "language_info": {
      "name": "python"
    }
  },
  "cells": [
    {
      "cell_type": "code",
      "execution_count": null,
      "metadata": {
        "id": "S2wwX8HyUzgh"
      },
      "outputs": [],
      "source": [
        "import pandas as pd\n",
        "\n",
        "url = \"https://raw.githubusercontent.com/alura-es-cursos/challenge1-data-science-latam/refs/heads/main/base-de-datos-challenge1-latam/tienda_1%20.csv\"\n",
        "url2 = \"https://raw.githubusercontent.com/alura-es-cursos/challenge1-data-science-latam/refs/heads/main/base-de-datos-challenge1-latam/tienda_2.csv\"\n",
        "url3 = \"https://raw.githubusercontent.com/alura-es-cursos/challenge1-data-science-latam/refs/heads/main/base-de-datos-challenge1-latam/tienda_3.csv\"\n",
        "url4 = \"https://raw.githubusercontent.com/alura-es-cursos/challenge1-data-science-latam/refs/heads/main/base-de-datos-challenge1-latam/tienda_4.csv\"\n",
        "\n",
        "tienda1 = pd.read_csv(url)\n",
        "tienda2 = pd.read_csv(url2)\n",
        "tienda3 = pd.read_csv(url3)\n",
        "tienda4 = pd.read_csv(url4)\n"
      ]
    },
    {
      "cell_type": "markdown",
      "source": [
        "# ¿Que tienda vende mas?"
      ],
      "metadata": {
        "id": "rCDQJlFAhy0M"
      }
    },
    {
      "cell_type": "code",
      "source": [
        "total_1 = tienda1[\"Precio\"].sum()\n",
        "total_2 = tienda2[\"Precio\"].sum()\n",
        "total_3 = tienda3[\"Precio\"].sum()\n",
        "total_4 = tienda4[\"Precio\"].sum()"
      ],
      "metadata": {
        "id": "yBST8jH4hx3T"
      },
      "execution_count": null,
      "outputs": []
    },
    {
      "cell_type": "code",
      "source": [
        "print(total_1)\n",
        "print(total_2)\n",
        "print(total_3)\n",
        "print(total_4)"
      ],
      "metadata": {
        "colab": {
          "base_uri": "https://localhost:8080/"
        },
        "id": "ZPb_Liqjia3z",
        "outputId": "060bbce0-ec11-42d7-c468-8a300813ec38"
      },
      "execution_count": null,
      "outputs": [
        {
          "output_type": "stream",
          "name": "stdout",
          "text": [
            "1150880400.0\n",
            "1116343500.0\n",
            "1098019600.0\n",
            "1038375700.0\n"
          ]
        }
      ]
    },
    {
      "cell_type": "code",
      "source": [
        "ventas_totales = {\n",
        "    \"Tienda 1\": total_1,\n",
        "    \"Tienda 2\": total_2,\n",
        "    \"Tienda 3\": total_3,\n",
        "    \"Tienda 4\": total_4\n",
        "}"
      ],
      "metadata": {
        "id": "oHGM9MOuiyUn"
      },
      "execution_count": null,
      "outputs": []
    },
    {
      "cell_type": "code",
      "source": [
        "tienda_mas_ventas = max(ventas_totales, key=ventas_totales.get)"
      ],
      "metadata": {
        "id": "KjYGlmphi5R1"
      },
      "execution_count": null,
      "outputs": []
    },
    {
      "cell_type": "code",
      "source": [
        "tienda_mas_ventas"
      ],
      "metadata": {
        "colab": {
          "base_uri": "https://localhost:8080/",
          "height": 36
        },
        "id": "1viLEMZhi7Bu",
        "outputId": "5f1b52a0-8134-4197-f225-b10462bdaccb"
      },
      "execution_count": null,
      "outputs": [
        {
          "output_type": "execute_result",
          "data": {
            "text/plain": [
              "'Tienda 1'"
            ],
            "application/vnd.google.colaboratory.intrinsic+json": {
              "type": "string"
            }
          },
          "metadata": {},
          "execution_count": 20
        }
      ]
    },
    {
      "cell_type": "code",
      "source": [
        "print(f\"La tienda con más facturación es {tienda_mas_ventas} con ${ventas_totales[tienda_mas_ventas]:,.2f}\")"
      ],
      "metadata": {
        "colab": {
          "base_uri": "https://localhost:8080/"
        },
        "id": "uE6eEzr9i-uE",
        "outputId": "b188293d-06e1-4039-90bb-85b9fd3161fd"
      },
      "execution_count": null,
      "outputs": [
        {
          "output_type": "stream",
          "name": "stdout",
          "text": [
            "La tienda con más facturación es Tienda 1 con $1,150,880,400.00\n"
          ]
        }
      ]
    },
    {
      "cell_type": "code",
      "source": [
        "import matplotlib.pyplot as plt\n",
        "\n",
        "ventas_totales = {\n",
        "    \"Tienda 1\": total_1,\n",
        "    \"Tienda 2\": total_2,\n",
        "    \"Tienda 3\": total_3,\n",
        "    \"Tienda 4\": total_4\n",
        "}\n"
      ],
      "metadata": {
        "id": "c9UL7TDCjIoz"
      },
      "execution_count": null,
      "outputs": []
    },
    {
      "cell_type": "code",
      "source": [
        "# Extraer nombres y valores\n",
        "labels = list(ventas_totales.keys())\n",
        "values = list(ventas_totales.values())\n",
        "\n",
        "\n",
        "# Crear la gráfica de pastel\n",
        "plt.figure(figsize=(12, 6))\n",
        "plt.pie(values, labels=labels, autopct=\"%1.1f%%\", startangle=140)\n",
        "plt.title(\"Distribución de facturación por tienda\")\n",
        "plt.axis('equal')  # Para que el pastel sea circular\n",
        "plt.show()"
      ],
      "metadata": {
        "colab": {
          "base_uri": "https://localhost:8080/",
          "height": 525
        },
        "id": "ZG8s33TijZmV",
        "outputId": "1448b57f-f57c-4fc2-deaf-7f53c4e2ab5f"
      },
      "execution_count": null,
      "outputs": [
        {
          "output_type": "display_data",
          "data": {
            "text/plain": [
              "<Figure size 1200x600 with 1 Axes>"
            ],
            "image/png": "[encoded data removed]"
          },
          "metadata": {}
        }
      ]
    },
    {
      "cell_type": "markdown",
      "source": [
        "# Productos mas y menos vendidos por tienda"
      ],
      "metadata": {
        "id": "rZzJqPUkrDyt"
      }
    },
    {
      "cell_type": "markdown",
      "source": [
        "##Productos mas vendidos"
      ],
      "metadata": {
        "id": "Ekt0TcQgxY0N"
      }
    },
    {
      "cell_type": "markdown",
      "source": [
        "### Contar cuántas veces se vendió cada producto"
      ],
      "metadata": {
        "id": "riwD6FZvrRYy"
      }
    },
    {
      "cell_type": "code",
      "source": [
        "tienda1 = pd.read_csv(url)\n",
        "tienda2 = pd.read_csv(url2)\n",
        "tienda3 = pd.read_csv(url3)\n",
        "tienda4 = pd.read_csv(url4)"
      ],
      "metadata": {
        "id": "dCeejuSorh3C"
      },
      "execution_count": null,
      "outputs": []
    },
    {
      "cell_type": "code",
      "source": [
        "ventas_tienda1 = tienda1[\"Producto\"].value_counts()\n",
        "ventas_tienda2 = tienda2[\"Producto\"].value_counts()\n",
        "ventas_tienda3 = tienda3[\"Producto\"].value_counts()\n",
        "ventas_tienda4 = tienda4[\"Producto\"].value_counts()"
      ],
      "metadata": {
        "id": "2atjTXWbrP3x"
      },
      "execution_count": null,
      "outputs": []
    },
    {
      "cell_type": "markdown",
      "source": [
        "## Producto más vendidos"
      ],
      "metadata": {
        "id": "tUZLEjrCsPkR"
      }
    },
    {
      "cell_type": "code",
      "source": [
        "producto_mas_vendido_1 = ventas_tienda1.idxmax()\n",
        "producto_mas_vendido_2 = ventas_tienda2.idxmax()\n",
        "producto_mas_vendido_3 = ventas_tienda3.idxmax()\n",
        "producto_mas_vendido_4 = ventas_tienda4.idxmax()"
      ],
      "metadata": {
        "id": "rWJncQl1sMv6"
      },
      "execution_count": null,
      "outputs": []
    },
    {
      "cell_type": "code",
      "source": [
        "ventas_mas_vendido_1 = ventas_tienda1.max()\n",
        "ventas_mas_vendido_2 = ventas_tienda2.max()\n",
        "ventas_mas_vendido_3 = ventas_tienda3.max()\n",
        "ventas_mas_vendido_4 = ventas_tienda4.max()"
      ],
      "metadata": {
        "id": "z3N5ivMBuyZP"
      },
      "execution_count": null,
      "outputs": []
    },
    {
      "cell_type": "code",
      "source": [
        "# Tienda 1\n",
        "print(producto_mas_vendido_1)\n",
        "print(ventas_mas_vendido_1)"
      ],
      "metadata": {
        "colab": {
          "base_uri": "https://localhost:8080/"
        },
        "id": "8JKyiByguJot",
        "outputId": "7fec7084-0703-42bd-ad42-b395d4568f1d"
      },
      "execution_count": null,
      "outputs": [
        {
          "output_type": "stream",
          "name": "stdout",
          "text": [
            "Microondas\n",
            "33\n"
          ]
        }
      ]
    },
    {
      "cell_type": "code",
      "source": [
        "# Tienda 2\n",
        "print(producto_mas_vendido_2)\n",
        "print(ventas_mas_vendido_2)"
      ],
      "metadata": {
        "colab": {
          "base_uri": "https://localhost:8080/"
        },
        "id": "7vEvySSOuazx",
        "outputId": "cfaa6354-a897-460a-cbf9-7af8672e7b8c"
      },
      "execution_count": null,
      "outputs": [
        {
          "output_type": "stream",
          "name": "stdout",
          "text": [
            "Iniciando en programación\n",
            "32\n"
          ]
        }
      ]
    },
    {
      "cell_type": "code",
      "source": [
        "# Tienda 3\n",
        "print(producto_mas_vendido_3)\n",
        "print(ventas_mas_vendido_3)"
      ],
      "metadata": {
        "colab": {
          "base_uri": "https://localhost:8080/"
        },
        "id": "8uIA6C_HufuN",
        "outputId": "f10ffb73-756d-4bd0-d7e6-da20e6881001"
      },
      "execution_count": null,
      "outputs": [
        {
          "output_type": "stream",
          "name": "stdout",
          "text": [
            "Kit de bancas\n",
            "35\n"
          ]
        }
      ]
    },
    {
      "cell_type": "code",
      "source": [
        "#tienda 4\n",
        "print(producto_mas_vendido_4)\n",
        "print(ventas_mas_vendido_4)"
      ],
      "metadata": {
        "colab": {
          "base_uri": "https://localhost:8080/"
        },
        "id": "F90HYO3tun52",
        "outputId": "b8904257-873a-4525-a34a-971e96d352c2"
      },
      "execution_count": null,
      "outputs": [
        {
          "output_type": "stream",
          "name": "stdout",
          "text": [
            "Cama box\n",
            "33\n"
          ]
        }
      ]
    },
    {
      "cell_type": "markdown",
      "source": [
        "##Producto menos vendido\n",
        "\n"
      ],
      "metadata": {
        "id": "zZWy5bCTssG5"
      }
    },
    {
      "cell_type": "code",
      "source": [
        "producto_menos_vendido_1 = ventas_tienda1.idxmin()\n",
        "producto_menos_vendido_2 = ventas_tienda2.idxmin()\n",
        "producto_menos_vendido_3 = ventas_tienda3.idxmin()\n",
        "producto_menos_vendido_4 = ventas_tienda4.idxmin()"
      ],
      "metadata": {
        "id": "lV_jMCNmsqW4"
      },
      "execution_count": null,
      "outputs": []
    },
    {
      "cell_type": "code",
      "source": [
        "ventas_menos_vendido_1 = ventas_tienda1.min()\n",
        "ventas_menos_vendido_2 = ventas_tienda2.min()\n",
        "ventas_menos_vendido_3 = ventas_tienda3.min()\n",
        "ventas_menos_vendido_4 = ventas_tienda4.min()\n"
      ],
      "metadata": {
        "id": "JxJXc3hIyFCR"
      },
      "execution_count": null,
      "outputs": []
    },
    {
      "cell_type": "code",
      "source": [
        "#Tienda 1\n",
        "print( producto_menos_vendido_1)\n",
        "print(ventas_menos_vendido_1)"
      ],
      "metadata": {
        "colab": {
          "base_uri": "https://localhost:8080/"
        },
        "id": "cEQztX16wruZ",
        "outputId": "f2c62e88-29c8-4bd5-cf4b-56d8de070036"
      },
      "execution_count": null,
      "outputs": [
        {
          "output_type": "stream",
          "name": "stdout",
          "text": [
            "Auriculares con micrófono\n",
            "33\n"
          ]
        }
      ]
    },
    {
      "cell_type": "code",
      "source": [
        "#Tienda 2\n",
        "print( producto_menos_vendido_2)\n",
        "print(ventas_menos_vendido_2)"
      ],
      "metadata": {
        "colab": {
          "base_uri": "https://localhost:8080/"
        },
        "id": "OKO31ixstmpt",
        "outputId": "718efb97-182f-4bf0-fa1d-364ab1930357"
      },
      "execution_count": null,
      "outputs": [
        {
          "output_type": "stream",
          "name": "stdout",
          "text": [
            "Juego de mesa\n",
            "32\n"
          ]
        }
      ]
    },
    {
      "cell_type": "code",
      "source": [
        "#Tienda 3\n",
        "print( producto_menos_vendido_3)\n",
        "print(ventas_menos_vendido_3)"
      ],
      "metadata": {
        "colab": {
          "base_uri": "https://localhost:8080/"
        },
        "id": "YNmEwEZDykWf",
        "outputId": "76c1bead-737d-409d-c98d-05fc717e8d96"
      },
      "execution_count": null,
      "outputs": [
        {
          "output_type": "stream",
          "name": "stdout",
          "text": [
            "Bloques de construcción\n",
            "35\n"
          ]
        }
      ]
    },
    {
      "cell_type": "code",
      "source": [
        "#Tienda 4\n",
        "print( producto_menos_vendido_4)\n",
        "print(ventas_menos_vendido_4)"
      ],
      "metadata": {
        "colab": {
          "base_uri": "https://localhost:8080/"
        },
        "id": "UiKx9GuVyqBH",
        "outputId": "e26a8c28-7db4-4e96-ee00-0fcb58ef1a05"
      },
      "execution_count": null,
      "outputs": [
        {
          "output_type": "stream",
          "name": "stdout",
          "text": [
            "Guitarra eléctrica\n",
            "33\n"
          ]
        }
      ]
    },
    {
      "cell_type": "markdown",
      "source": [
        "Reporte de ventas de las tiendas\n",
        "\n"
      ],
      "metadata": {
        "id": "VUoh0Ekxs1rp"
      }
    },
    {
      "cell_type": "code",
      "source": [
        "print(f\"\"\"El producto más vendido de la tienda 1 es el {producto_mas_vendido_1} con {ventas_mas_vendido_1} ventas,\n",
        "el producto mas vendido de la tienda 2 es el {producto_mas_vendido_2} con {ventas_mas_vendido_2} ventas,\n",
        "el producto mas vendido de la tienda 3 es el {producto_mas_vendido_3} con {ventas_mas_vendido_3} ventas,\n",
        "y el producto mas vendido de la tienda 4 es la {producto_mas_vendido_4} con {ventas_mas_vendido_4} ventas.\"\"\")"
      ],
      "metadata": {
        "colab": {
          "base_uri": "https://localhost:8080/"
        },
        "id": "d00yHsHZs6Ie",
        "outputId": "5bd75f46-ed41-4eaf-8cff-2d61473b84e2"
      },
      "execution_count": null,
      "outputs": [
        {
          "output_type": "stream",
          "name": "stdout",
          "text": [
            "El producto más vendido de la tienda 1 es el Microondas con 33 ventas,\n",
            "el producto mas vendido de la tienda 2 es el Iniciando en programación con 32 ventas,\n",
            "el producto mas vendido de la tienda 3 es el Kit de bancas con 35 ventas, \n",
            "y el producto mas vendido de la tienda 4 es la Cama box con 33 ventas.\n"
          ]
        }
      ]
    },
    {
      "cell_type": "code",
      "source": [
        "\n",
        "print(f\"\"\"El producto menos vendido de la tienda 1 son los: {producto_menos_vendido_1}, con {ventas_menos_vendido_1} ventas,\n",
        "el producto menos vendido de la tienda 2 es el: {producto_menos_vendido_2}, con {ventas_menos_vendido_2} ventas,\n",
        "el producto menos vendido de la tienda 3 son los: {producto_menos_vendido_3}, con {ventas_menos_vendido_3} ventas,\n",
        "y el producto menos vendido de la tienda 4 es la: {producto_menos_vendido_4}, con {ventas_menos_vendido_4} ventas.\"\"\")"
      ],
      "metadata": {
        "colab": {
          "base_uri": "https://localhost:8080/"
        },
        "id": "d5sW4Mf-zxut",
        "outputId": "35f4d341-9a52-4d2d-a33a-f7a3b81d3a4a"
      },
      "execution_count": null,
      "outputs": [
        {
          "output_type": "stream",
          "name": "stdout",
          "text": [
            "El producto menos vendido de la tienda 1 son los: Auriculares con micrófono, con 33 ventas, \n",
            "el producto menos vendido de la tienda 2 es el: Juego de mesa, con 32 ventas,\n",
            "el producto menos vendido de la tienda 3 son los: Bloques de construcción, con 35 ventas,\n",
            "y el producto menos vendido de la tienda 4 es la: Guitarra eléctrica, con 33 ventas.\n"
          ]
        }
      ]
    },
    {
      "cell_type": "markdown",
      "source": [
        "#TABLA DE VENTAS Y ARTICULOS"
      ],
      "metadata": {
        "id": "xGuIY2lU1gMa"
      }
    },
    {
      "cell_type": "code",
      "source": [
        "def obtener_datos_ventas(df, nombre_tienda):\n",
        "    conteo = df[\"Producto\"].value_counts()\n",
        "    return {\n",
        "        \"Tienda\": nombre_tienda,\n",
        "        \"Artículo más vendido\": conteo.idxmax(),\n",
        "        \"Número de ventas\": conteo.max(),\n",
        "        \"Artículo menos vendido\": conteo.idxmin(),\n",
        "        \"Cantidad de ventas\": conteo.min()\n",
        "    }"
      ],
      "metadata": {
        "id": "tHd2Fmyv1lKY"
      },
      "execution_count": null,
      "outputs": []
    },
    {
      "cell_type": "code",
      "source": [
        "resumen = [\n",
        "    obtener_datos_ventas(tienda1, \"Tienda 1\"),\n",
        "    obtener_datos_ventas(tienda2, \"Tienda 2\"),\n",
        "    obtener_datos_ventas(tienda3, \"Tienda 3\"),\n",
        "    obtener_datos_ventas(tienda4, \"Tienda 4\")\n",
        "]"
      ],
      "metadata": {
        "id": "qcu8WkEs11fT"
      },
      "execution_count": null,
      "outputs": []
    },
    {
      "cell_type": "code",
      "source": [
        "tabla_resumen = pd.DataFrame(resumen)\n",
        "print(tabla_resumen)\n"
      ],
      "metadata": {
        "colab": {
          "base_uri": "https://localhost:8080/"
        },
        "id": "_at67-FX17Q5",
        "outputId": "6077ce29-7c9d-42ba-c1be-0a5387f5141d"
      },
      "execution_count": null,
      "outputs": [
        {
          "output_type": "stream",
          "name": "stdout",
          "text": [
            "     Tienda       Artículo más vendido  Número de ventas  \\\n",
            "0  Tienda 1                 Microondas                60   \n",
            "1  Tienda 2  Iniciando en programación                65   \n",
            "2  Tienda 3              Kit de bancas                57   \n",
            "3  Tienda 4                   Cama box                62   \n",
            "\n",
            "      Artículo menos vendido  Cantidad de ventas  \n",
            "0  Auriculares con micrófono                  33  \n",
            "1              Juego de mesa                  32  \n",
            "2    Bloques de construcción                  35  \n",
            "3         Guitarra eléctrica                  33  \n"
          ]
        }
      ]
    },
    {
      "cell_type": "markdown",
      "source": [
        "# Ventas por categoria"
      ],
      "metadata": {
        "id": "s9V5Xy_8mOXx"
      }
    },
    {
      "cell_type": "code",
      "source": [
        "datos1 = tienda1\n",
        "datos2 = tienda2\n",
        "datos3 = tienda3\n",
        "datos4 = tienda4"
      ],
      "metadata": {
        "id": "3cIOeJpOmbuq"
      },
      "execution_count": null,
      "outputs": []
    },
    {
      "cell_type": "code",
      "source": [
        "datos1= tienda1[['Categoría del Producto', 'Producto']]"
      ],
      "metadata": {
        "id": "A-ICYoy2mxiA"
      },
      "execution_count": null,
      "outputs": []
    },
    {
      "cell_type": "markdown",
      "source": [
        "### tienda 1"
      ],
      "metadata": {
        "id": "gE6l-0u4rksT"
      }
    },
    {
      "cell_type": "code",
      "source": [
        "datos1"
      ],
      "metadata": {
        "id": "-5Y2NE3enzzY"
      },
      "execution_count": null,
      "outputs": []
    },
    {
      "cell_type": "code",
      "source": [
        "datos1.groupby('Categoría del Producto').count().sort_values('Producto', ascending=False)"
      ],
      "metadata": {
        "id": "HraQ7OiOoFiJ"
      },
      "execution_count": null,
      "outputs": []
    },
    {
      "cell_type": "code",
      "source": [
        "categoria_mas_vendida_1 = datos1.groupby('Categoría del Producto').count().sort_values('Producto', ascending=False).index[0]"
      ],
      "metadata": {
        "id": "s8_zP5D3qAFI"
      },
      "execution_count": null,
      "outputs": []
    },
    {
      "cell_type": "code",
      "source": [
        "categoria_mas_vendida_1"
      ],
      "metadata": {
        "id": "vpvA1WVyqKER"
      },
      "execution_count": null,
      "outputs": []
    },
    {
      "cell_type": "code",
      "source": [
        "datos1.groupby('Categoría del Producto').count().sort_values('Producto', ascending=False)['Producto'].plot(kind='bar', figsize=(10, 5), color='skyblue')"
      ],
      "metadata": {
        "id": "eP2WJoBLqPV1"
      },
      "execution_count": null,
      "outputs": []
    },
    {
      "cell_type": "markdown",
      "source": [
        "## Valoración media por tienda"
      ],
      "metadata": {
        "id": "0aDVCN2jr3E_"
      }
    },
    {
      "cell_type": "code",
      "source": [
        "calificacion_tienda1= tienda1['Calificación'].mean()\n",
        "calificacion_tienda2= tienda2['Calificación'].mean()\n",
        "calificacion_tienda3= tienda3['Calificación'].mean()\n",
        "calificacion_tienda4= tienda4['Calificación'].mean()"
      ],
      "metadata": {
        "id": "1Q5OpdUUqPhj"
      },
      "execution_count": null,
      "outputs": []
    },
    {
      "cell_type": "code",
      "source": [
        "print(calificacion_tienda1)\n",
        "print(calificacion_tienda2)\n",
        "print(calificacion_tienda3)\n",
        "print(calificacion_tienda4)"
      ],
      "metadata": {
        "id": "GtNDojZertba"
      },
      "execution_count": null,
      "outputs": []
    },
    {
      "cell_type": "code",
      "source": [
        "satisfacccion_del_cliente = {\n",
        "    \"Tienda 1\": calificacion_tienda1,\n",
        "    \"Tienda 2\": calificacion_tienda2,\n",
        "    \"Tienda 3\": calificacion_tienda3,\n",
        "    \"Tienda 4\": calificacion_tienda4\n",
        "}"
      ],
      "metadata": {
        "id": "zCx2N6K9vz6y"
      },
      "execution_count": null,
      "outputs": []
    },
    {
      "cell_type": "code",
      "source": [
        "import pandas as pd\n",
        "import matplotlib.pyplot as plt\n",
        "\n",
        "satisfacccion_del_cliente_series = pd.Series(satisfacccion_del_cliente)\n",
        "satisfacccion_del_cliente_series.plot(kind='bar', figsize=(10, 5))\n",
        "plt.title(\"Calificación media por tienda\")\n",
        "plt.xlabel(\"Tiendas\")\n",
        "plt.ylabel(\"Valoración Media\")\n",
        "plt.xticks(rotation=0) # Rotate labels if needed\n",
        "plt.tight_layout() # Adjust layout to prevent labels overlapping\n",
        "plt.show()"
      ],
      "metadata": {
        "id": "vVWktcidv50f"
      },
      "execution_count": null,
      "outputs": []
    },
    {
      "cell_type": "code",
      "source": [],
      "metadata": {
        "id": "P0NAAKDLx79T"
      },
      "execution_count": null,
      "outputs": []
    },
    {
      "cell_type": "markdown",
      "source": [
        "# Costos de envio por tienda"
      ],
      "metadata": {
        "id": "h1zu7-lyx8Xh"
      }
    },
    {
      "cell_type": "code",
      "source": [
        "costo_envio1 = tienda1['Costo de envío'].mean()\n",
        "costo_envio2 = tienda2['Costo de envío'].mean()\n",
        "costo_envio3 = tienda3['Costo de envío'].mean()\n",
        "costo_envio4 = tienda4['Costo de envío'].mean()"
      ],
      "metadata": {
        "id": "VScwoXqnyC22"
      },
      "execution_count": null,
      "outputs": []
    },
    {
      "cell_type": "code",
      "source": [
        "print(f\"Costo promedio de envío - Tienda 1: ${costo_envio1:,.2f}\")\n",
        "print(f\"Costo promedio de envío - Tienda 2: ${costo_envio2:,.2f}\")\n",
        "print(f\"Costo promedio de envío - Tienda 3: ${costo_envio3:,.2f}\")\n",
        "print(f\"Costo promedio de envío - Tienda 4: ${costo_envio4:,.2f}\")"
      ],
      "metadata": {
        "colab": {
          "base_uri": "https://localhost:8080/"
        },
        "id": "yK5rhgWczSzr",
        "outputId": "a45ab016-0bf1-433c-ff4a-29c2c8e3dad4"
      },
      "execution_count": null,
      "outputs": [
        {
          "output_type": "stream",
          "name": "stdout",
          "text": [
            "Costo promedio de envío - Tienda 1: $26,018.61\n",
            "Costo promedio de envío - Tienda 2: $25,216.24\n",
            "Costo promedio de envío - Tienda 3: $24,805.68\n",
            "Costo promedio de envío - Tienda 4: $23,459.46\n"
          ]
        }
      ]
    },
    {
      "cell_type": "markdown",
      "source": [
        "###visualizando en tabla"
      ],
      "metadata": {
        "id": "QT1o9Vs_4c8e"
      }
    },
    {
      "cell_type": "code",
      "source": [
        "Costos_envio_promedio = {\n",
        "    \"Tienda 1\": costo_envio1,\n",
        "    \"Tienda 2\": costo_envio2,\n",
        "    \"Tienda 3\": costo_envio3,\n",
        "    \"Tienda 4\": costo_envio4\n",
        "}"
      ],
      "metadata": {
        "id": "H_ehwAQ7yV55"
      },
      "execution_count": null,
      "outputs": []
    },
    {
      "cell_type": "code",
      "source": [
        "df_envio = pd.DataFrame(list(Costos_envio_promedio.items()), columns=[\"Tienda\", \"Costo promedio de envío\"])\n",
        "print(df_envio)"
      ],
      "metadata": {
        "colab": {
          "base_uri": "https://localhost:8080/"
        },
        "id": "UpkD-9Sq4TuS",
        "outputId": "08f72f63-924a-4764-ec0f-84d84624d3c0"
      },
      "execution_count": null,
      "outputs": [
        {
          "output_type": "stream",
          "name": "stdout",
          "text": [
            "     Tienda  Costo promedio de envío\n",
            "0  Tienda 1             26018.609580\n",
            "1  Tienda 2             25216.235693\n",
            "2  Tienda 3             24805.680373\n",
            "3  Tienda 4             23459.457167\n"
          ]
        }
      ]
    },
    {
      "cell_type": "markdown",
      "source": [
        "### visualizando en gráfica"
      ],
      "metadata": {
        "id": "uKbuJHe84ilJ"
      }
    },
    {
      "cell_type": "code",
      "source": [
        "import matplotlib.pyplot as plt"
      ],
      "metadata": {
        "id": "Ne-_JnvR93NB"
      },
      "execution_count": null,
      "outputs": []
    },
    {
      "cell_type": "code",
      "source": [
        "# Extraer datos para la gráfica\n",
        "nombres_tiendas = list(Costos_envio_promedio.keys())\n",
        "valores_promedio = list(Costos_envio_promedio.values())\n",
        "\n",
        "# Crear la gráfica de barras\n",
        "plt.figure(figsize=(8, 5))\n",
        "bars = plt.bar(nombres_tiendas, valores_promedio, color=\"mediumseagreen\")\n",
        "\n",
        "# Agregar etiquetas de valor encima de cada barra\n",
        "for bar in bars:\n",
        "    yval = bar.get_height()\n",
        "    plt.text(bar.get_x() + bar.get_width()/2, yval + 200, f\"${yval:,.2f}\", ha='center', va='bottom')\n",
        "\n",
        "# Personalizar la gráfica\n",
        "plt.title(\"Costo promedio de envío por tienda\")\n",
        "plt.ylabel(\"Costo promedio ($)\")\n",
        "plt.grid(axis=\"y\", linestyle=\"--\", alpha=0.6)\n",
        "plt.tight_layout()\n",
        "\n",
        "plt.show()\n"
      ],
      "metadata": {
        "colab": {
          "base_uri": "https://localhost:8080/",
          "height": 507
        },
        "id": "LPJIXRTt9--0",
        "outputId": "8bdcf322-0ea9-4035-dbcc-4e8f7185949a"
      },
      "execution_count": null,
      "outputs": [
        {
          "output_type": "display_data",
          "data": {
            "text/plain": [
              "<Figure size 800x500 with 1 Axes>"
            ],
            "image/png": "[encoded data removed]"
          },
          "metadata": {}
        }
      ]
    },
    {
      "cell_type": "markdown",
      "source": [
        "# Informe final"
      ],
      "metadata": {
        "id": "5iL-DLIrxX0y"
      }
    },
    {
      "cell_type": "code",
      "source": [
        "import pandas as pd\n",
        "import matplotlib.pyplot as plt"
      ],
      "metadata": {
        "id": "e9Ovj29uLhcN"
      },
      "execution_count": null,
      "outputs": []
    },
    {
      "cell_type": "code",
      "source": [
        "# Crear lista para almacenar resumen de cada tienda\n",
        "resumen = [tienda1, tienda2, tienda3, tienda4]"
      ],
      "metadata": {
        "id": "OWDcVaNrLl8C"
      },
      "execution_count": null,
      "outputs": []
    },
    {
      "cell_type": "code",
      "source": [
        "resumen = []\n",
        "\n",
        "stores = {\n",
        "    \"Tienda 1\": tienda1,\n",
        "    \"Tienda 2\": tienda2,\n",
        "    \"Tienda 3\": tienda3,\n",
        "    \"Tienda 4\": tienda4\n",
        "}\n",
        "\n",
        "for nombre, df in stores.items():\n",
        "    total_ventas = df[\"Precio\"].sum()\n",
        "    ventas_productos = df[\"Producto\"].value_counts()\n",
        "    producto_mas_vendido = ventas_productos.idxmax()\n",
        "    ventas_mas_vendido = ventas_productos.max()\n",
        "    envio_promedio = df[\"Costo de envío\"].mean()\n",
        "    categoria_popular = df[\"Categoría del Producto\"].value_counts().idxmax()\n",
        "    evaluacion_promedio = df[\"Calificación\"].mean()\n",
        "\n",
        "\n",
        "    resumen.append({\n",
        "        \"Tienda\": nombre,\n",
        "        \"Total Ventas\": total_ventas,\n",
        "        \"Producto Más Vendido\": producto_mas_vendido,\n",
        "        \"Ventas del Producto\": ventas_mas_vendido,\n",
        "        \"Costo Promedio Envío\": envio_promedio,\n",
        "        \"Categoría Popular\": categoria_popular,\n",
        "        \"Evaluación Promedio\": evaluacion_promedio\n",
        "    })"
      ],
      "metadata": {
        "id": "bC0DbBnLL8ZI"
      },
      "execution_count": null,
      "outputs": []
    },
    {
      "cell_type": "code",
      "source": [
        "# Convertir en DataFrame resumen\n",
        "df_resumen = pd.DataFrame(resumen)\n"
      ],
      "metadata": {
        "id": "V9uY_Rk_MKTK"
      },
      "execution_count": 132,
      "outputs": []
    },
    {
      "cell_type": "code",
      "source": [
        "print(df_resumen.to_string(index=False))"
      ],
      "metadata": {
        "colab": {
          "base_uri": "https://localhost:8080/"
        },
        "id": "DTQHYuutRfC6",
        "outputId": "f1867945-9e6c-4caa-9c80-0812d3b67faa"
      },
      "execution_count": 133,
      "outputs": [
        {
          "output_type": "stream",
          "name": "stdout",
          "text": [
            "  Tienda  Total Ventas      Producto Más Vendido  Ventas del Producto  Costo Promedio Envío Categoría Popular  Evaluación Promedio\n",
            "Tienda 1  1150880400.0                Microondas                   60          26018.609580           Muebles             3.976685\n",
            "Tienda 2  1116343500.0 Iniciando en programación                   65          25216.235693           Muebles             4.037304\n",
            "Tienda 3  1098019600.0             Kit de bancas                   57          24805.680373           Muebles             4.048326\n",
            "Tienda 4  1038375700.0                  Cama box                   62          23459.457167           Muebles             3.995759\n"
          ]
        }
      ]
    },
    {
      "cell_type": "code",
      "source": [
        "# Guardar a Excel (opcional)\n",
        "df_resumen.to_excel(\"reporte_comparativo_tiendas.xlsx\", index=False)"
      ],
      "metadata": {
        "id": "Wh7sj7T7MmRz"
      },
      "execution_count": null,
      "outputs": []
    },
    {
      "cell_type": "code",
      "source": [
        "\n",
        "# Graficar ventas totales por tienda\n",
        "plt.figure(figsize=(8,5))\n",
        "plt.bar(df_resumen[\"Tienda\"], df_resumen[\"Total Ventas\"], color=[\"#1f77b4\", \"#ff7f0e\", \"#2ca02c\", \"#d62728\"])\n",
        "plt.title(\"Total de Ventas por Tienda\")\n",
        "plt.ylabel(\"Monto en $\")\n",
        "plt.grid(axis=\"y\", linestyle=\"--\", alpha=0.7)\n",
        "\n",
        "# Etiquetas\n",
        "for i, v in enumerate(df_resumen[\"Total Ventas\"]):\n",
        "    plt.text(i, v + max(df_resumen[\"Total Ventas\"])*0.02, f\"${v:,.0f}\", ha='center')\n",
        "\n",
        "plt.tight_layout()\n",
        "plt.show()"
      ],
      "metadata": {
        "colab": {
          "base_uri": "https://localhost:8080/",
          "height": 507
        },
        "id": "veAnYlE7Mw4x",
        "outputId": "d6aa893d-17d9-4902-d322-7df1c6c5df0f"
      },
      "execution_count": null,
      "outputs": [
        {
          "output_type": "display_data",
          "data": {
            "text/plain": [
              "<Figure size 800x500 with 1 Axes>"
            ],
            "image/png": "[encoded data removed]"
          },
          "metadata": {}
        }
      ]
    },
    {
      "cell_type": "markdown",
      "source": [
        "#TOMANDO UNA DESICION"
      ],
      "metadata": {
        "id": "XeW0RkndR5WF"
      }
    },
    {
      "cell_type": "code",
      "source": [
        "# Regla de decisión: mayor facturación y evaluación, menor costo de envío\n",
        "\n",
        "# Convertimos los factores en una puntuación\n",
        "def calcular_puntaje(r):\n",
        "    return (r[\"Total Ventas\"] * 0.4) + \\\n",
        "           (r[\"Evaluación Promedio\"] * 100 * 0.4) - \\\n",
        "           (r[\"Costo Promedio Envío\"] * 10 * 0.2)\n",
        "\n",
        "# Use the df_resumen DataFrame directly\n",
        "df_resumen[\"Puntaje\"] = df_resumen.apply(calcular_puntaje, axis=1)/100000000\n",
        "\n",
        "# Ordenar por puntaje\n",
        "peor_tienda = df_resumen.sort_values(by=\"Puntaje\", ascending=True).iloc[0]\n",
        "mejor_tienda = df_resumen.sort_values(by=\"Puntaje\", ascending=False).iloc[0]\n",
        "\n",
        "# Mostrar recomendación\n",
        "print(\"\\n🏆 Recomendación Final:\")\n",
        "print(f\"La mejor tienda para invertir es la {mejor_tienda['Tienda']} con un puntaje de {mejor_tienda['Puntaje']:.2f}, la mejor tienda para vender es {peor_tienda['Tienda']} con un puntaje {peor_tienda['Puntaje']:.2f}\")"
      ],
      "metadata": {
        "colab": {
          "base_uri": "https://localhost:8080/"
        },
        "id": "OTo20ZxQR9SS",
        "outputId": "e1c07e6f-3508-4e7f-f063-3d6483e910b6"
      },
      "execution_count": 147,
      "outputs": [
        {
          "output_type": "stream",
          "name": "stdout",
          "text": [
            "\n",
            "🏆 Recomendación Final:\n",
            "La mejor tienda para invertir es la Tienda 1 con un puntaje de 4.60, la mejor tienda para vender es Tienda 4 con un puntaje 4.15\n"
          ]
        }
      ]
    }
  ]
}